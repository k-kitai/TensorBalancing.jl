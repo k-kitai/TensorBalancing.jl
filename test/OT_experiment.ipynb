{
 "cells": [
  {
   "cell_type": "code",
   "execution_count": 1,
   "metadata": {},
   "outputs": [
    {
     "name": "stdout",
     "output_type": "stream",
     "text": [
      "ArrayFire v3.5.1 (CUDA, 64-bit Linux, build 0a675e8)\n",
      "Platform: CUDA Toolkit 8, Driver: 390.30\n",
      "[0] GeForce GTX 970, 4040 MB, CUDA Compute 5.2\n"
     ]
    },
    {
     "name": "stderr",
     "output_type": "stream",
     "text": [
      "WARNING: Method definition warn(Any...) in module Base at util.jl:585 overwritten in module Logging at /home/koki/.pyenv/versions/miniconda3-latest/share/julia/site/v0.6/Logging/src/Logging.jl:115.\n",
      "WARNING: Method definition info(Any...) in module Base at util.jl:532 overwritten in module Logging at /home/koki/.pyenv/versions/miniconda3-latest/share/julia/site/v0.6/Logging/src/Logging.jl:115.\n",
      "WARNING: Method definition skBalancing(Array{T<:AbstractFloat, 2}, Any, Any) in module TensorBalancing at /home/koki/.pyenv/versions/miniconda3-latest/share/julia/site/v0.6/TensorBalancing/src/matrix/fixedpoint.jl:2 overwritten at /home/koki/.pyenv/versions/miniconda3-latest/share/julia/site/v0.6/TensorBalancing/src/matrix/fixedpoint.jl:6.\n",
      "WARNING: Method definition qnBalancing_double(AbstractArray{T<:AbstractFloat, 2}, Any, Any) in module TensorBalancing at /home/koki/.pyenv/versions/miniconda3-latest/share/julia/site/v0.6/TensorBalancing/src/matrix/convex.jl:89 overwritten at /home/koki/.pyenv/versions/miniconda3-latest/share/julia/site/v0.6/TensorBalancing/src/matrix/convex.jl:93.\n",
      "WARNING: Method definition #qnBalancing_double(Array{Any, 1}, typeof(TensorBalancing.qnBalancing_double), AbstractArray{T<:AbstractFloat, 2}, Any, Any) in module TensorBalancing overwritten.\n"
     ]
    }
   ],
   "source": [
    "using TensorBalancing\n",
    "using BenchmarkTools\n",
    "using JuMP\n",
    "using Clp\n",
    "using MNIST\n",
    "import Images"
   ]
  },
  {
   "cell_type": "code",
   "execution_count": 2,
   "metadata": {},
   "outputs": [],
   "source": [
    "type OptimalTransport\n",
    "    metric::Array{Float64, 2}\n",
    "    λ::Float64\n",
    "    src::Array{Float64, 1}\n",
    "    dest::Array{Float64 ,1}\n",
    "    \n",
    "    function OptimalTransport(metric, λ, src, dest)\n",
    "        if sum(src) == sum(dest)\n",
    "            return new(metric, λ, src, dest)\n",
    "        else\n",
    "            return new(metric, λ, src, dest ./ sum(dest) .* sum(src))\n",
    "        end\n",
    "    end\n",
    "end\n",
    "\n",
    "type Coordθ\n",
    "    val::Array{Float64, 2}\n",
    "end\n",
    "\n",
    "type Coordη\n",
    "    val::Array{Float64, 2}\n",
    "end"
   ]
  },
  {
   "cell_type": "code",
   "execution_count": 3,
   "metadata": {},
   "outputs": [
    {
     "data": {
      "text/plain": [
       "cumsum_rev (generic function with 1 method)"
      ]
     },
     "execution_count": 3,
     "metadata": {},
     "output_type": "execute_result"
    }
   ],
   "source": [
    "function calcθ(ot::OptimalTransport)\n",
    "    M = ot.metric\n",
    "    λ = ot.λ\n",
    "    m, n = size(M)\n",
    "    θ = zeros(m, n)\n",
    "    θ[1,1] = -λ*M[1,1]\n",
    "    θ[1,2:end] = -λ*(M[1,2:end] - M[1,1:end-1])\n",
    "    θ[2:end,1] = -λ*(M[2:end,1] - M[1:end-1,1])\n",
    "    θ[2:end,2:end] = -λ*(M[2:end,2:end]-M[1:end-1,2:end]-M[2:end,1:end-1]+M[1:end-1,1:end-1])\n",
    "    Coordθ(θ)\n",
    "end\n",
    "\n",
    "function calcη(θ::Coordθ)\n",
    "    calcη(θtoP(θ))\n",
    "end\n",
    "\n",
    "function calcη(X::Array{Float64, 2})\n",
    "    cumsum(cumsum(X[end:-1:1,:],1)[:,end:-1:1],2)[end:-1:1,end:-1:1]\n",
    "end\n",
    "\n",
    "calcη(ot::OptimalTransport) = calcη(calcK(ot))\n",
    "\n",
    "function θtoP(θ::Coordθ)\n",
    "    exp.(cumsum(cumsum(θ.val,1),2))\n",
    "end\n",
    "\n",
    "function cumsum_rev(v)\n",
    "    reverse(cumsum(reverse(v)))\n",
    "end"
   ]
  },
  {
   "cell_type": "code",
   "execution_count": 4,
   "metadata": {},
   "outputs": [
    {
     "data": {
      "text/plain": [
       "solver_A (generic function with 1 method)"
      ]
     },
     "execution_count": 4,
     "metadata": {},
     "output_type": "execute_result"
    }
   ],
   "source": [
    "function calcK(ot::OptimalTransport)\n",
    "    exp.(-ot.λ * ot.metric)\n",
    "end\n",
    "\n",
    "function solver_A(ot::OptimalTransport)\n",
    "    K = calcK(ot)\n",
    "    r, c = TensorBalancing.skBalancing(K, ot.src, ot.dest, 1.0e-6)\n",
    "    K .* r .* c'\n",
    "end"
   ]
  },
  {
   "cell_type": "code",
   "execution_count": 5,
   "metadata": {},
   "outputs": [
    {
     "data": {
      "text/plain": [
       "solver_B (generic function with 1 method)"
      ]
     },
     "execution_count": 5,
     "metadata": {},
     "output_type": "execute_result"
    }
   ],
   "source": [
    "function lbfgs_θ(ot::OptimalTransport, ϵ=1.0e-9, max_iter=65535; log_norm=false, only_x=false)\n",
    "    M, N = size(ot.metric)\n",
    "    θ = -ot.λ * ot.metric\n",
    "    _θ = copy(θ)\n",
    "\n",
    "    _g! = function(grad, x)\n",
    "        #@show x\n",
    "        _θ .= θ .+ x[1:N]'\n",
    "        _θ[2:end,:] .+= x[N+1:end]\n",
    "        P = exp.(_θ)\n",
    "        grad .= vcat(sum(P,1)'-ot.dest, (sum(P,2) - ot.src)[2:end])[:,1]\n",
    "    end\n",
    "    g! = !log_norm ? _g! : \n",
    "        function(grad, x)\n",
    "            _g!(grad, x)\n",
    "            @printf \"norm=%.18f\\n\" norm(grad)*(issym?sqrt(2):1)\n",
    "            flush(STDOUT)\n",
    "        end\n",
    "\n",
    "    grad = zeros(M+N-1)\n",
    "    grad_p = copy(grad)\n",
    "    sbuf = []\n",
    "    ybuf = []\n",
    "\n",
    "    function tloop(g, ss, ys)\n",
    "        p = -g\n",
    "        local m = length(ss)\n",
    "        if (m == 0) return p end\n",
    "        alphas = zeros(m)\n",
    "        for i = m:-1:1\n",
    "            alphas[i] = (ss[i]' * p) / (ss[i]' * ys[i])\n",
    "            p .-= alphas[i]*ys[i]\n",
    "        end\n",
    "        p *= ((ss[end])' * ys[end]) / ((ys[end])' * ys[end])\n",
    "        for i=1:m\n",
    "            beta = (ys[i]' * p) / (ss[i]' * ys[i])\n",
    "            p += (alphas[i]-beta)ss[i]\n",
    "        end\n",
    "        return p\n",
    "    end\n",
    "\n",
    "    # initialize\n",
    "    #x = -log.(vcat(sum(calcK(ot), 2), sum(calcK(ot), 1)[2:end])) ./ 2\n",
    "    x = zeros(M+N-1)\n",
    "    r, c = TensorBalancing.skBalancing(calcK(ot), ot.src, ot.dest, 1.0e1)\n",
    "    x[1:N] = log.(c)\n",
    "    x[N+1:end] = log.(r[2:end])\n",
    "    x[1] += log(r[1])\n",
    "    \n",
    "\n",
    "    m=10\n",
    "    k=1\n",
    "    g!(grad, x)\n",
    "    while norm(grad) > ϵ && k <= max_iter\n",
    "        p = tloop(grad, sbuf, ybuf)\n",
    "        #@show norm(grad)\n",
    "        x += p\n",
    "        grad_p .= grad\n",
    "        g!(grad, x)\n",
    "        if k > m\n",
    "            sbuf = sbuf[2:end]\n",
    "            ybuf = ybuf[2:end]\n",
    "        end\n",
    "        push!(sbuf, p)\n",
    "        push!(ybuf, grad - grad_p)\n",
    "        k += 1\n",
    "    end\n",
    "    if only_x\n",
    "        return x\n",
    "    end\n",
    "    _θ = θ .+ x[1:N]'\n",
    "    _θ[2:end,:] .+= x[N+1:end]\n",
    "    P = exp.(_θ)\n",
    "end\n",
    "\n",
    "function solver_B(ot::OptimalTransport)\n",
    "    K = calcK(ot)\n",
    "    lbfgs_θ(ot, 1.0e-6)\n",
    "end"
   ]
  },
  {
   "cell_type": "code",
   "execution_count": 6,
   "metadata": {},
   "outputs": [
    {
     "data": {
      "text/plain": [
       "solver_C (generic function with 1 method)"
      ]
     },
     "execution_count": 6,
     "metadata": {},
     "output_type": "execute_result"
    }
   ],
   "source": [
    "function solver_C(ot::OptimalTransport)\n",
    "    M, N = size(ot.metric)\n",
    "    m = Model(solver = ClpSolver())\n",
    "    @variable(m, x[1:M,1:N] >= 0)\n",
    "    @objective(m, Min, sum(x .* ot.metric))\n",
    "    @constraint(m, x * ones(N) .== ot.src)\n",
    "    @constraint(m, x' * ones(N) .== ot.dest)\n",
    "    stat = solve(m)\n",
    "    getvalue(x)\n",
    "end"
   ]
  },
  {
   "cell_type": "code",
   "execution_count": 7,
   "metadata": {},
   "outputs": [
    {
     "data": {
      "image/png": "[encoded data removed]",
      "text/plain": [
       "500×500 Array{Gray{Float64},2}:\n",
       " Gray{Float64}(0.0)          …  Gray{Float64}(1.0)        \n",
       " Gray{Float64}(4.01605e-6)      Gray{Float64}(0.995996)   \n",
       " Gray{Float64}(1.60642e-5)      Gray{Float64}(0.992)      \n",
       " Gray{Float64}(3.61444e-5)      Gray{Float64}(0.988012)   \n",
       " Gray{Float64}(6.42568e-5)      Gray{Float64}(0.984032)   \n",
       " Gray{Float64}(0.000100401)  …  Gray{Float64}(0.98006)    \n",
       " Gray{Float64}(0.000144578)     Gray{Float64}(0.976096)   \n",
       " Gray{Float64}(0.000196786)     Gray{Float64}(0.972141)   \n",
       " Gray{Float64}(0.000257027)     Gray{Float64}(0.968193)   \n",
       " Gray{Float64}(0.0003253)       Gray{Float64}(0.964253)   \n",
       " Gray{Float64}(0.000401605)  …  Gray{Float64}(0.960321)   \n",
       " Gray{Float64}(0.000485942)     Gray{Float64}(0.956398)   \n",
       " Gray{Float64}(0.000578311)     Gray{Float64}(0.952482)   \n",
       " ⋮                           ⋱                            \n",
       " Gray{Float64}(0.956398)        Gray{Float64}(0.000485942)\n",
       " Gray{Float64}(0.960321)        Gray{Float64}(0.000401605)\n",
       " Gray{Float64}(0.964253)     …  Gray{Float64}(0.0003253)  \n",
       " Gray{Float64}(0.968193)        Gray{Float64}(0.000257027)\n",
       " Gray{Float64}(0.972141)        Gray{Float64}(0.000196786)\n",
       " Gray{Float64}(0.976096)        Gray{Float64}(0.000144578)\n",
       " Gray{Float64}(0.98006)         Gray{Float64}(0.000100401)\n",
       " Gray{Float64}(0.984032)     …  Gray{Float64}(6.42568e-5) \n",
       " Gray{Float64}(0.988012)        Gray{Float64}(3.61444e-5) \n",
       " Gray{Float64}(0.992)           Gray{Float64}(1.60642e-5) \n",
       " Gray{Float64}(0.995996)        Gray{Float64}(4.01605e-6) \n",
       " Gray{Float64}(1.0)             Gray{Float64}(0.0)        "
      ]
     },
     "execution_count": 7,
     "metadata": {},
     "output_type": "execute_result"
    }
   ],
   "source": [
    "N = 500\n",
    "xs = linspace(0, 1, N)\n",
    "M = (xs' .- xs).^2\n",
    "ot = OptimalTransport(M, 0.01, linspace(0,1,N), linspace(1,0,N))\n",
    "Images.colorview(Images.Gray, M)"
   ]
  },
  {
   "cell_type": "code",
   "execution_count": 8,
   "metadata": {},
   "outputs": [
    {
     "data": {
      "text/plain": [
       "0.003498508"
      ]
     },
     "execution_count": 8,
     "metadata": {},
     "output_type": "execute_result"
    }
   ],
   "source": [
    "@belapsed solver_A(ot)"
   ]
  },
  {
   "cell_type": "code",
   "execution_count": 9,
   "metadata": {},
   "outputs": [
    {
     "data": {
      "text/plain": [
       "0.143015479"
      ]
     },
     "execution_count": 9,
     "metadata": {},
     "output_type": "execute_result"
    }
   ],
   "source": [
    "@belapsed solver_B(ot)"
   ]
  },
  {
   "cell_type": "code",
   "execution_count": 10,
   "metadata": {},
   "outputs": [
    {
     "data": {
      "text/plain": [
       "3.812688552"
      ]
     },
     "execution_count": 10,
     "metadata": {},
     "output_type": "execute_result"
    }
   ],
   "source": [
    "@belapsed solver_C(ot)"
   ]
  },
  {
   "cell_type": "code",
   "execution_count": 11,
   "metadata": {},
   "outputs": [
    {
     "name": "stderr",
     "output_type": "stream",
     "text": [
      "\u001b[1m\u001b[33mWARNING: \u001b[39m\u001b[22m\u001b[33mArray(::Type{T}, m::Int, n::Int) where T is deprecated, use Array{T}(m, n) instead.\u001b[39m\n",
      "Stacktrace:\n",
      " [1] \u001b[1mdepwarn\u001b[22m\u001b[22m\u001b[1m(\u001b[22m\u001b[22m::String, ::Symbol\u001b[1m)\u001b[22m\u001b[22m at \u001b[1m./deprecated.jl:70\u001b[22m\u001b[22m\n",
      " [2] \u001b[1mArray\u001b[22m\u001b[22m\u001b[1m(\u001b[22m\u001b[22m::Type{Float64}, ::Int64, ::Int64\u001b[1m)\u001b[22m\u001b[22m at \u001b[1m./deprecated.jl:57\u001b[22m\u001b[22m\n",
      " [3] \u001b[1mtraindata\u001b[22m\u001b[22m\u001b[1m(\u001b[22m\u001b[22m\u001b[1m)\u001b[22m\u001b[22m at \u001b[1m/home/koki/.pyenv/versions/miniconda3-latest/share/julia/site/v0.6/MNIST/src/MNIST.jl:88\u001b[22m\u001b[22m\n",
      " [4] \u001b[1minclude_string\u001b[22m\u001b[22m\u001b[1m(\u001b[22m\u001b[22m::String, ::String\u001b[1m)\u001b[22m\u001b[22m at \u001b[1m./loading.jl:522\u001b[22m\u001b[22m\n",
      " [5] \u001b[1minclude_string\u001b[22m\u001b[22m\u001b[1m(\u001b[22m\u001b[22m::Module, ::String, ::String\u001b[1m)\u001b[22m\u001b[22m at \u001b[1m/home/koki/.pyenv/versions/miniconda3-latest/share/julia/site/v0.6/Compat/src/Compat.jl:174\u001b[22m\u001b[22m\n",
      " [6] \u001b[1mexecute_request\u001b[22m\u001b[22m\u001b[1m(\u001b[22m\u001b[22m::ZMQ.Socket, ::IJulia.Msg\u001b[1m)\u001b[22m\u001b[22m at \u001b[1m/home/koki/.pyenv/versions/miniconda3-latest/share/julia/site/v0.6/IJulia/src/execute_request.jl:154\u001b[22m\u001b[22m\n",
      " [7] \u001b[1m(::Compat.#inner#16{Array{Any,1},IJulia.#execute_request,Tuple{ZMQ.Socket,IJulia.Msg}})\u001b[22m\u001b[22m\u001b[1m(\u001b[22m\u001b[22m\u001b[1m)\u001b[22m\u001b[22m at \u001b[1m/home/koki/.pyenv/versions/miniconda3-latest/share/julia/site/v0.6/Compat/src/Compat.jl:496\u001b[22m\u001b[22m\n",
      " [8] \u001b[1meventloop\u001b[22m\u001b[22m\u001b[1m(\u001b[22m\u001b[22m::ZMQ.Socket\u001b[1m)\u001b[22m\u001b[22m at \u001b[1m/home/koki/.pyenv/versions/miniconda3-latest/share/julia/site/v0.6/IJulia/src/eventloop.jl:8\u001b[22m\u001b[22m\n",
      " [9] \u001b[1m(::IJulia.##14#17)\u001b[22m\u001b[22m\u001b[1m(\u001b[22m\u001b[22m\u001b[1m)\u001b[22m\u001b[22m at \u001b[1m./task.jl:335\u001b[22m\u001b[22m\n",
      "while loading In[11], in expression starting on line 1\n",
      "\u001b[1m\u001b[33mWARNING: \u001b[39m\u001b[22m\u001b[33mArray(::Type{T}, m::Int) where T is deprecated, use Array{T}(m) instead.\u001b[39m\n",
      "Stacktrace:\n",
      " [1] \u001b[1mdepwarn\u001b[22m\u001b[22m\u001b[1m(\u001b[22m\u001b[22m::String, ::Symbol\u001b[1m)\u001b[22m\u001b[22m at \u001b[1m./deprecated.jl:70\u001b[22m\u001b[22m\n",
      " [2] \u001b[1mArray\u001b[22m\u001b[22m\u001b[1m(\u001b[22m\u001b[22m::Type{Float64}, ::Int64\u001b[1m)\u001b[22m\u001b[22m at \u001b[1m./deprecated.jl:57\u001b[22m\u001b[22m\n",
      " [3] \u001b[1mtraindata\u001b[22m\u001b[22m\u001b[1m(\u001b[22m\u001b[22m\u001b[1m)\u001b[22m\u001b[22m at \u001b[1m/home/koki/.pyenv/versions/miniconda3-latest/share/julia/site/v0.6/MNIST/src/MNIST.jl:89\u001b[22m\u001b[22m\n",
      " [4] \u001b[1minclude_string\u001b[22m\u001b[22m\u001b[1m(\u001b[22m\u001b[22m::String, ::String\u001b[1m)\u001b[22m\u001b[22m at \u001b[1m./loading.jl:522\u001b[22m\u001b[22m\n",
      " [5] \u001b[1minclude_string\u001b[22m\u001b[22m\u001b[1m(\u001b[22m\u001b[22m::Module, ::String, ::String\u001b[1m)\u001b[22m\u001b[22m at \u001b[1m/home/koki/.pyenv/versions/miniconda3-latest/share/julia/site/v0.6/Compat/src/Compat.jl:174\u001b[22m\u001b[22m\n",
      " [6] \u001b[1mexecute_request\u001b[22m\u001b[22m\u001b[1m(\u001b[22m\u001b[22m::ZMQ.Socket, ::IJulia.Msg\u001b[1m)\u001b[22m\u001b[22m at \u001b[1m/home/koki/.pyenv/versions/miniconda3-latest/share/julia/site/v0.6/IJulia/src/execute_request.jl:154\u001b[22m\u001b[22m\n",
      " [7] \u001b[1m(::Compat.#inner#16{Array{Any,1},IJulia.#execute_request,Tuple{ZMQ.Socket,IJulia.Msg}})\u001b[22m\u001b[22m\u001b[1m(\u001b[22m\u001b[22m\u001b[1m)\u001b[22m\u001b[22m at \u001b[1m/home/koki/.pyenv/versions/miniconda3-latest/share/julia/site/v0.6/Compat/src/Compat.jl:496\u001b[22m\u001b[22m\n",
      " [8] \u001b[1meventloop\u001b[22m\u001b[22m\u001b[1m(\u001b[22m\u001b[22m::ZMQ.Socket\u001b[1m)\u001b[22m\u001b[22m at \u001b[1m/home/koki/.pyenv/versions/miniconda3-latest/share/julia/site/v0.6/IJulia/src/eventloop.jl:8\u001b[22m\u001b[22m\n",
      " [9] \u001b[1m(::IJulia.##14#17)\u001b[22m\u001b[22m\u001b[1m(\u001b[22m\u001b[22m\u001b[1m)\u001b[22m\u001b[22m at \u001b[1m./task.jl:335\u001b[22m\u001b[22m\n",
      "while loading In[11], in expression starting on line 1\n"
     ]
    }
   ],
   "source": [
    "x_train, _ = traindata();"
   ]
  },
  {
   "cell_type": "code",
   "execution_count": 12,
   "metadata": {},
   "outputs": [],
   "source": [
    "xs = [[x, y] for x in linspace(0, 1, 28), y in linspace(0, 1, 28)][:]\n",
    "M = zeros(length(xs), length(xs))\n",
    "for i = 1:length(xs), j = 1:length(xs)\n",
    "    M[i,j] = norm(xs[i] - xs[j])\n",
    "end\n",
    "ot = OptimalTransport(M, 500, x_train[:,1], x_train[:,2]);"
   ]
  },
  {
   "cell_type": "code",
   "execution_count": 13,
   "metadata": {},
   "outputs": [
    {
     "data": {
      "image/png": "[encoded data removed]",
      "text/plain": [
       "784×784 Array{Gray{Float64},2}:\n",
       " Gray{Float64}(0.0)        …  Gray{Float64}(1.41421)  \n",
       " Gray{Float64}(0.037037)      Gray{Float64}(1.38827)  \n",
       " Gray{Float64}(0.0740741)     Gray{Float64}(1.36284)  \n",
       " Gray{Float64}(0.111111)      Gray{Float64}(1.33795)  \n",
       " Gray{Float64}(0.148148)      Gray{Float64}(1.31364)  \n",
       " Gray{Float64}(0.185185)   …  Gray{Float64}(1.28993)  \n",
       " Gray{Float64}(0.222222)      Gray{Float64}(1.26686)  \n",
       " Gray{Float64}(0.259259)      Gray{Float64}(1.24447)  \n",
       " Gray{Float64}(0.296296)      Gray{Float64}(1.22278)  \n",
       " Gray{Float64}(0.333333)      Gray{Float64}(1.20185)  \n",
       " Gray{Float64}(0.37037)    …  Gray{Float64}(1.18171)  \n",
       " Gray{Float64}(0.407407)      Gray{Float64}(1.1624)   \n",
       " Gray{Float64}(0.444444)      Gray{Float64}(1.14396)  \n",
       " ⋮                         ⋱                          \n",
       " Gray{Float64}(1.1624)        Gray{Float64}(0.407407) \n",
       " Gray{Float64}(1.18171)       Gray{Float64}(0.37037)  \n",
       " Gray{Float64}(1.20185)       Gray{Float64}(0.333333) \n",
       " Gray{Float64}(1.22278)    …  Gray{Float64}(0.296296) \n",
       " Gray{Float64}(1.24447)       Gray{Float64}(0.259259) \n",
       " Gray{Float64}(1.26686)       Gray{Float64}(0.222222) \n",
       " Gray{Float64}(1.28993)       Gray{Float64}(0.185185) \n",
       " Gray{Float64}(1.31364)       Gray{Float64}(0.148148) \n",
       " Gray{Float64}(1.33795)    …  Gray{Float64}(0.111111) \n",
       " Gray{Float64}(1.36284)       Gray{Float64}(0.0740741)\n",
       " Gray{Float64}(1.38827)       Gray{Float64}(0.037037) \n",
       " Gray{Float64}(1.41421)       Gray{Float64}(0.0)      "
      ]
     },
     "execution_count": 13,
     "metadata": {},
     "output_type": "execute_result"
    }
   ],
   "source": [
    "Images.colorview(Images.Gray, M)"
   ]
  },
  {
   "cell_type": "code",
   "execution_count": 14,
   "metadata": {},
   "outputs": [
    {
     "name": "stdout",
     "output_type": "stream",
     "text": [
      "  9.000887 seconds (124.73 k allocations: 23.087 GiB, 15.19% gc time)\n"
     ]
    },
    {
     "data": {
      "image/png": "[encoded data removed]",
      "text/plain": [
       "784×784 Array{Gray{Float64},2}:\n",
       " Gray{Float64}(0.0)  Gray{Float64}(0.0)  …  Gray{Float64}(0.0)\n",
       " Gray{Float64}(0.0)  Gray{Float64}(0.0)     Gray{Float64}(0.0)\n",
       " Gray{Float64}(0.0)  Gray{Float64}(0.0)     Gray{Float64}(0.0)\n",
       " Gray{Float64}(0.0)  Gray{Float64}(0.0)     Gray{Float64}(0.0)\n",
       " Gray{Float64}(0.0)  Gray{Float64}(0.0)     Gray{Float64}(0.0)\n",
       " Gray{Float64}(0.0)  Gray{Float64}(0.0)  …  Gray{Float64}(0.0)\n",
       " Gray{Float64}(0.0)  Gray{Float64}(0.0)     Gray{Float64}(0.0)\n",
       " Gray{Float64}(0.0)  Gray{Float64}(0.0)     Gray{Float64}(0.0)\n",
       " Gray{Float64}(0.0)  Gray{Float64}(0.0)     Gray{Float64}(0.0)\n",
       " Gray{Float64}(0.0)  Gray{Float64}(0.0)     Gray{Float64}(0.0)\n",
       " Gray{Float64}(0.0)  Gray{Float64}(0.0)  …  Gray{Float64}(0.0)\n",
       " Gray{Float64}(0.0)  Gray{Float64}(0.0)     Gray{Float64}(0.0)\n",
       " Gray{Float64}(0.0)  Gray{Float64}(0.0)     Gray{Float64}(0.0)\n",
       " ⋮                                       ⋱                    \n",
       " Gray{Float64}(0.0)  Gray{Float64}(0.0)     Gray{Float64}(0.0)\n",
       " Gray{Float64}(0.0)  Gray{Float64}(0.0)     Gray{Float64}(0.0)\n",
       " Gray{Float64}(0.0)  Gray{Float64}(0.0)     Gray{Float64}(0.0)\n",
       " Gray{Float64}(0.0)  Gray{Float64}(0.0)  …  Gray{Float64}(0.0)\n",
       " Gray{Float64}(0.0)  Gray{Float64}(0.0)     Gray{Float64}(0.0)\n",
       " Gray{Float64}(0.0)  Gray{Float64}(0.0)     Gray{Float64}(0.0)\n",
       " Gray{Float64}(0.0)  Gray{Float64}(0.0)     Gray{Float64}(0.0)\n",
       " Gray{Float64}(0.0)  Gray{Float64}(0.0)     Gray{Float64}(0.0)\n",
       " Gray{Float64}(0.0)  Gray{Float64}(0.0)  …  Gray{Float64}(0.0)\n",
       " Gray{Float64}(0.0)  Gray{Float64}(0.0)     Gray{Float64}(0.0)\n",
       " Gray{Float64}(0.0)  Gray{Float64}(0.0)     Gray{Float64}(0.0)\n",
       " Gray{Float64}(0.0)  Gray{Float64}(0.0)     Gray{Float64}(0.0)"
      ]
     },
     "execution_count": 14,
     "metadata": {},
     "output_type": "execute_result"
    }
   ],
   "source": [
    "@time Images.colorview(Images.Gray,solver_A(ot))"
   ]
  },
  {
   "cell_type": "code",
   "execution_count": 15,
   "metadata": {},
   "outputs": [
    {
     "name": "stdout",
     "output_type": "stream",
     "text": [
      "  3.068716 seconds (117.21 k allocations: 7.216 GiB, 11.23% gc time)\n"
     ]
    },
    {
     "data": {
      "image/png": "[encoded data removed]",
      "text/plain": [
       "784×784 Array{Gray{Float64},2}:\n",
       " Gray{Float64}(0.0)  Gray{Float64}(0.0)  …  Gray{Float64}(0.0)\n",
       " Gray{Float64}(0.0)  Gray{Float64}(0.0)     Gray{Float64}(0.0)\n",
       " Gray{Float64}(0.0)  Gray{Float64}(0.0)     Gray{Float64}(0.0)\n",
       " Gray{Float64}(0.0)  Gray{Float64}(0.0)     Gray{Float64}(0.0)\n",
       " Gray{Float64}(0.0)  Gray{Float64}(0.0)     Gray{Float64}(0.0)\n",
       " Gray{Float64}(0.0)  Gray{Float64}(0.0)  …  Gray{Float64}(0.0)\n",
       " Gray{Float64}(0.0)  Gray{Float64}(0.0)     Gray{Float64}(0.0)\n",
       " Gray{Float64}(0.0)  Gray{Float64}(0.0)     Gray{Float64}(0.0)\n",
       " Gray{Float64}(0.0)  Gray{Float64}(0.0)     Gray{Float64}(0.0)\n",
       " Gray{Float64}(0.0)  Gray{Float64}(0.0)     Gray{Float64}(0.0)\n",
       " Gray{Float64}(0.0)  Gray{Float64}(0.0)  …  Gray{Float64}(0.0)\n",
       " Gray{Float64}(0.0)  Gray{Float64}(0.0)     Gray{Float64}(0.0)\n",
       " Gray{Float64}(0.0)  Gray{Float64}(0.0)     Gray{Float64}(0.0)\n",
       " ⋮                                       ⋱                    \n",
       " Gray{Float64}(0.0)  Gray{Float64}(0.0)     Gray{Float64}(0.0)\n",
       " Gray{Float64}(0.0)  Gray{Float64}(0.0)     Gray{Float64}(0.0)\n",
       " Gray{Float64}(0.0)  Gray{Float64}(0.0)     Gray{Float64}(0.0)\n",
       " Gray{Float64}(0.0)  Gray{Float64}(0.0)  …  Gray{Float64}(0.0)\n",
       " Gray{Float64}(0.0)  Gray{Float64}(0.0)     Gray{Float64}(0.0)\n",
       " Gray{Float64}(0.0)  Gray{Float64}(0.0)     Gray{Float64}(0.0)\n",
       " Gray{Float64}(0.0)  Gray{Float64}(0.0)     Gray{Float64}(0.0)\n",
       " Gray{Float64}(0.0)  Gray{Float64}(0.0)     Gray{Float64}(0.0)\n",
       " Gray{Float64}(0.0)  Gray{Float64}(0.0)  …  Gray{Float64}(0.0)\n",
       " Gray{Float64}(0.0)  Gray{Float64}(0.0)     Gray{Float64}(0.0)\n",
       " Gray{Float64}(0.0)  Gray{Float64}(0.0)     Gray{Float64}(0.0)\n",
       " Gray{Float64}(0.0)  Gray{Float64}(0.0)     Gray{Float64}(0.0)"
      ]
     },
     "execution_count": 15,
     "metadata": {},
     "output_type": "execute_result"
    }
   ],
   "source": [
    "@time Images.colorview(Images.Gray,solver_B(ot))"
   ]
  },
  {
   "cell_type": "code",
   "execution_count": 16,
   "metadata": {},
   "outputs": [
    {
     "name": "stdout",
     "output_type": "stream",
     "text": [
      "  2.153754 seconds (13.54 M allocations: 1.010 GiB, 45.88% gc time)\n"
     ]
    },
    {
     "data": {
      "image/png": "[encoded data removed]",
      "text/plain": [
       "784×784 Array{Gray{Float64},2}:\n",
       " Gray{Float64}(0.0)  Gray{Float64}(0.0)  …  Gray{Float64}(0.0)\n",
       " Gray{Float64}(0.0)  Gray{Float64}(0.0)     Gray{Float64}(0.0)\n",
       " Gray{Float64}(0.0)  Gray{Float64}(0.0)     Gray{Float64}(0.0)\n",
       " Gray{Float64}(0.0)  Gray{Float64}(0.0)     Gray{Float64}(0.0)\n",
       " Gray{Float64}(0.0)  Gray{Float64}(0.0)     Gray{Float64}(0.0)\n",
       " Gray{Float64}(0.0)  Gray{Float64}(0.0)  …  Gray{Float64}(0.0)\n",
       " Gray{Float64}(0.0)  Gray{Float64}(0.0)     Gray{Float64}(0.0)\n",
       " Gray{Float64}(0.0)  Gray{Float64}(0.0)     Gray{Float64}(0.0)\n",
       " Gray{Float64}(0.0)  Gray{Float64}(0.0)     Gray{Float64}(0.0)\n",
       " Gray{Float64}(0.0)  Gray{Float64}(0.0)     Gray{Float64}(0.0)\n",
       " Gray{Float64}(0.0)  Gray{Float64}(0.0)  …  Gray{Float64}(0.0)\n",
       " Gray{Float64}(0.0)  Gray{Float64}(0.0)     Gray{Float64}(0.0)\n",
       " Gray{Float64}(0.0)  Gray{Float64}(0.0)     Gray{Float64}(0.0)\n",
       " ⋮                                       ⋱                    \n",
       " Gray{Float64}(0.0)  Gray{Float64}(0.0)     Gray{Float64}(0.0)\n",
       " Gray{Float64}(0.0)  Gray{Float64}(0.0)     Gray{Float64}(0.0)\n",
       " Gray{Float64}(0.0)  Gray{Float64}(0.0)     Gray{Float64}(0.0)\n",
       " Gray{Float64}(0.0)  Gray{Float64}(0.0)  …  Gray{Float64}(0.0)\n",
       " Gray{Float64}(0.0)  Gray{Float64}(0.0)     Gray{Float64}(0.0)\n",
       " Gray{Float64}(0.0)  Gray{Float64}(0.0)     Gray{Float64}(0.0)\n",
       " Gray{Float64}(0.0)  Gray{Float64}(0.0)     Gray{Float64}(0.0)\n",
       " Gray{Float64}(0.0)  Gray{Float64}(0.0)     Gray{Float64}(0.0)\n",
       " Gray{Float64}(0.0)  Gray{Float64}(0.0)  …  Gray{Float64}(0.0)\n",
       " Gray{Float64}(0.0)  Gray{Float64}(0.0)     Gray{Float64}(0.0)\n",
       " Gray{Float64}(0.0)  Gray{Float64}(0.0)     Gray{Float64}(0.0)\n",
       " Gray{Float64}(0.0)  Gray{Float64}(0.0)     Gray{Float64}(0.0)"
      ]
     },
     "execution_count": 16,
     "metadata": {},
     "output_type": "execute_result"
    }
   ],
   "source": [
    "@time Images.colorview(Images.Gray,solver_C(ot))"
   ]
  },
  {
   "cell_type": "code",
   "execution_count": 17,
   "metadata": {},
   "outputs": [],
   "source": [
    "xs = [[x, y] for x in linspace(0, 1, 28), y in linspace(0, 1, 28)][:]\n",
    "M = zeros(length(xs), length(xs))\n",
    "for i = 1:length(xs), j = 1:length(xs)\n",
    "    M[i,j] = norm(xs[i] - xs[j])\n",
    "end\n",
    "ot = OptimalTransport(M, 5000, x_train[:,1], x_train[:,2]);"
   ]
  },
  {
   "cell_type": "code",
   "execution_count": 18,
   "metadata": {},
   "outputs": [
    {
     "name": "stdout",
     "output_type": "stream",
     "text": [
      "  0.013692 seconds (116 allocations: 23.548 MiB)\n"
     ]
    },
    {
     "data": {
      "image/png": "[encoded data removed]",
      "text/plain": [
       "784×784 Array{Gray{Float64},2}:\n",
       " Gray{Float64}(NaN)  Gray{Float64}(NaN)  …  Gray{Float64}(NaN)\n",
       " Gray{Float64}(NaN)  Gray{Float64}(NaN)     Gray{Float64}(NaN)\n",
       " Gray{Float64}(NaN)  Gray{Float64}(NaN)     Gray{Float64}(NaN)\n",
       " Gray{Float64}(NaN)  Gray{Float64}(NaN)     Gray{Float64}(NaN)\n",
       " Gray{Float64}(NaN)  Gray{Float64}(NaN)     Gray{Float64}(NaN)\n",
       " Gray{Float64}(NaN)  Gray{Float64}(NaN)  …  Gray{Float64}(NaN)\n",
       " Gray{Float64}(NaN)  Gray{Float64}(NaN)     Gray{Float64}(NaN)\n",
       " Gray{Float64}(NaN)  Gray{Float64}(NaN)     Gray{Float64}(NaN)\n",
       " Gray{Float64}(NaN)  Gray{Float64}(NaN)     Gray{Float64}(NaN)\n",
       " Gray{Float64}(NaN)  Gray{Float64}(NaN)     Gray{Float64}(NaN)\n",
       " Gray{Float64}(NaN)  Gray{Float64}(NaN)  …  Gray{Float64}(NaN)\n",
       " Gray{Float64}(NaN)  Gray{Float64}(NaN)     Gray{Float64}(NaN)\n",
       " Gray{Float64}(NaN)  Gray{Float64}(NaN)     Gray{Float64}(NaN)\n",
       " ⋮                                       ⋱                    \n",
       " Gray{Float64}(NaN)  Gray{Float64}(NaN)     Gray{Float64}(NaN)\n",
       " Gray{Float64}(NaN)  Gray{Float64}(NaN)     Gray{Float64}(NaN)\n",
       " Gray{Float64}(NaN)  Gray{Float64}(NaN)     Gray{Float64}(NaN)\n",
       " Gray{Float64}(NaN)  Gray{Float64}(NaN)  …  Gray{Float64}(NaN)\n",
       " Gray{Float64}(NaN)  Gray{Float64}(NaN)     Gray{Float64}(NaN)\n",
       " Gray{Float64}(NaN)  Gray{Float64}(NaN)     Gray{Float64}(NaN)\n",
       " Gray{Float64}(NaN)  Gray{Float64}(NaN)     Gray{Float64}(NaN)\n",
       " Gray{Float64}(NaN)  Gray{Float64}(NaN)     Gray{Float64}(NaN)\n",
       " Gray{Float64}(NaN)  Gray{Float64}(NaN)  …  Gray{Float64}(NaN)\n",
       " Gray{Float64}(NaN)  Gray{Float64}(NaN)     Gray{Float64}(NaN)\n",
       " Gray{Float64}(NaN)  Gray{Float64}(NaN)     Gray{Float64}(NaN)\n",
       " Gray{Float64}(NaN)  Gray{Float64}(NaN)     Gray{Float64}(NaN)"
      ]
     },
     "execution_count": 18,
     "metadata": {},
     "output_type": "execute_result"
    }
   ],
   "source": [
    "@time Images.colorview(Images.Gray,solver_A(ot))"
   ]
  },
  {
   "cell_type": "code",
   "execution_count": 19,
   "metadata": {},
   "outputs": [
    {
     "name": "stdout",
     "output_type": "stream",
     "text": [
      "  0.037226 seconds (395 allocations: 61.200 MiB)\n"
     ]
    },
    {
     "data": {
      "image/png": "[encoded data removed]",
      "text/plain": [
       "784×784 Array{Gray{Float64},2}:\n",
       " Gray{Float64}(NaN)  Gray{Float64}(NaN)  …  Gray{Float64}(NaN)\n",
       " Gray{Float64}(NaN)  Gray{Float64}(NaN)     Gray{Float64}(NaN)\n",
       " Gray{Float64}(NaN)  Gray{Float64}(NaN)     Gray{Float64}(NaN)\n",
       " Gray{Float64}(NaN)  Gray{Float64}(NaN)     Gray{Float64}(NaN)\n",
       " Gray{Float64}(NaN)  Gray{Float64}(NaN)     Gray{Float64}(NaN)\n",
       " Gray{Float64}(NaN)  Gray{Float64}(NaN)  …  Gray{Float64}(NaN)\n",
       " Gray{Float64}(NaN)  Gray{Float64}(NaN)     Gray{Float64}(NaN)\n",
       " Gray{Float64}(NaN)  Gray{Float64}(NaN)     Gray{Float64}(NaN)\n",
       " Gray{Float64}(NaN)  Gray{Float64}(NaN)     Gray{Float64}(NaN)\n",
       " Gray{Float64}(NaN)  Gray{Float64}(NaN)     Gray{Float64}(NaN)\n",
       " Gray{Float64}(NaN)  Gray{Float64}(NaN)  …  Gray{Float64}(NaN)\n",
       " Gray{Float64}(NaN)  Gray{Float64}(NaN)     Gray{Float64}(NaN)\n",
       " Gray{Float64}(NaN)  Gray{Float64}(NaN)     Gray{Float64}(NaN)\n",
       " ⋮                                       ⋱                    \n",
       " Gray{Float64}(NaN)  Gray{Float64}(NaN)     Gray{Float64}(NaN)\n",
       " Gray{Float64}(NaN)  Gray{Float64}(NaN)     Gray{Float64}(NaN)\n",
       " Gray{Float64}(NaN)  Gray{Float64}(NaN)     Gray{Float64}(NaN)\n",
       " Gray{Float64}(NaN)  Gray{Float64}(NaN)  …  Gray{Float64}(NaN)\n",
       " Gray{Float64}(NaN)  Gray{Float64}(NaN)     Gray{Float64}(NaN)\n",
       " Gray{Float64}(NaN)  Gray{Float64}(NaN)     Gray{Float64}(NaN)\n",
       " Gray{Float64}(NaN)  Gray{Float64}(NaN)     Gray{Float64}(NaN)\n",
       " Gray{Float64}(NaN)  Gray{Float64}(NaN)     Gray{Float64}(NaN)\n",
       " Gray{Float64}(NaN)  Gray{Float64}(NaN)  …  Gray{Float64}(NaN)\n",
       " Gray{Float64}(NaN)  Gray{Float64}(NaN)     Gray{Float64}(NaN)\n",
       " Gray{Float64}(NaN)  Gray{Float64}(NaN)     Gray{Float64}(NaN)\n",
       " Gray{Float64}(NaN)  Gray{Float64}(NaN)     Gray{Float64}(NaN)"
      ]
     },
     "execution_count": 19,
     "metadata": {},
     "output_type": "execute_result"
    }
   ],
   "source": [
    "@time Images.colorview(Images.Gray,solver_B(ot))"
   ]
  },
  {
   "cell_type": "code",
   "execution_count": 20,
   "metadata": {},
   "outputs": [
    {
     "name": "stdout",
     "output_type": "stream",
     "text": [
      "  1.713267 seconds (13.54 M allocations: 1.033 GiB, 31.16% gc time)\n"
     ]
    },
    {
     "data": {
      "image/png": "[encoded data removed]",
      "text/plain": [
       "784×784 Array{Gray{Float64},2}:\n",
       " Gray{Float64}(0.0)  Gray{Float64}(0.0)  …  Gray{Float64}(0.0)\n",
       " Gray{Float64}(0.0)  Gray{Float64}(0.0)     Gray{Float64}(0.0)\n",
       " Gray{Float64}(0.0)  Gray{Float64}(0.0)     Gray{Float64}(0.0)\n",
       " Gray{Float64}(0.0)  Gray{Float64}(0.0)     Gray{Float64}(0.0)\n",
       " Gray{Float64}(0.0)  Gray{Float64}(0.0)     Gray{Float64}(0.0)\n",
       " Gray{Float64}(0.0)  Gray{Float64}(0.0)  …  Gray{Float64}(0.0)\n",
       " Gray{Float64}(0.0)  Gray{Float64}(0.0)     Gray{Float64}(0.0)\n",
       " Gray{Float64}(0.0)  Gray{Float64}(0.0)     Gray{Float64}(0.0)\n",
       " Gray{Float64}(0.0)  Gray{Float64}(0.0)     Gray{Float64}(0.0)\n",
       " Gray{Float64}(0.0)  Gray{Float64}(0.0)     Gray{Float64}(0.0)\n",
       " Gray{Float64}(0.0)  Gray{Float64}(0.0)  …  Gray{Float64}(0.0)\n",
       " Gray{Float64}(0.0)  Gray{Float64}(0.0)     Gray{Float64}(0.0)\n",
       " Gray{Float64}(0.0)  Gray{Float64}(0.0)     Gray{Float64}(0.0)\n",
       " ⋮                                       ⋱                    \n",
       " Gray{Float64}(0.0)  Gray{Float64}(0.0)     Gray{Float64}(0.0)\n",
       " Gray{Float64}(0.0)  Gray{Float64}(0.0)     Gray{Float64}(0.0)\n",
       " Gray{Float64}(0.0)  Gray{Float64}(0.0)     Gray{Float64}(0.0)\n",
       " Gray{Float64}(0.0)  Gray{Float64}(0.0)  …  Gray{Float64}(0.0)\n",
       " Gray{Float64}(0.0)  Gray{Float64}(0.0)     Gray{Float64}(0.0)\n",
       " Gray{Float64}(0.0)  Gray{Float64}(0.0)     Gray{Float64}(0.0)\n",
       " Gray{Float64}(0.0)  Gray{Float64}(0.0)     Gray{Float64}(0.0)\n",
       " Gray{Float64}(0.0)  Gray{Float64}(0.0)     Gray{Float64}(0.0)\n",
       " Gray{Float64}(0.0)  Gray{Float64}(0.0)  …  Gray{Float64}(0.0)\n",
       " Gray{Float64}(0.0)  Gray{Float64}(0.0)     Gray{Float64}(0.0)\n",
       " Gray{Float64}(0.0)  Gray{Float64}(0.0)     Gray{Float64}(0.0)\n",
       " Gray{Float64}(0.0)  Gray{Float64}(0.0)     Gray{Float64}(0.0)"
      ]
     },
     "execution_count": 20,
     "metadata": {},
     "output_type": "execute_result"
    }
   ],
   "source": [
    "@time Images.colorview(Images.Gray,solver_C(ot))"
   ]
  }
 ],
 "metadata": {
  "kernelspec": {
   "display_name": "Julia 0.6.1",
   "language": "julia",
   "name": "julia-0.6"
  },
  "language_info": {
   "file_extension": ".jl",
   "mimetype": "application/julia",
   "name": "julia",
   "version": "0.6.1"
  }
 },
 "nbformat": 4,
 "nbformat_minor": 2
}
